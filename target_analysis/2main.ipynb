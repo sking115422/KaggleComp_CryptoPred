{
 "cells": [
  {
   "cell_type": "code",
   "execution_count": null,
   "metadata": {},
   "outputs": [],
   "source": [
    "import numpy as np\n",
    "import pandas as pd\n",
    "from scipy.ndimage.interpolation import shift\n",
    "from sklearn.metrics import mean_absolute_error\n",
    "from matplotlib import pyplot as plt"
   ]
  },
  {
   "cell_type": "code",
   "execution_count": null,
   "metadata": {},
   "outputs": [],
   "source": [
    "# DF = pd.read_csv(r'train.csv')"
   ]
  },
  {
   "cell_type": "code",
   "execution_count": null,
   "metadata": {},
   "outputs": [],
   "source": [
    "# for val in DF.Asset_ID.unique():\n",
    "#     print(val)\n",
    "#     DF[DF.Asset_ID==val].sort_values(by=['timestamp'],ascending=True).to_csv(r'splitdata\\Asset'+str(val)+'.csv',index=None)"
   ]
  },
  {
   "cell_type": "code",
   "execution_count": null,
   "metadata": {},
   "outputs": [],
   "source": [
    "#del DF"
   ]
  },
  {
   "cell_type": "code",
   "execution_count": null,
   "metadata": {},
   "outputs": [],
   "source": [
    "_ = pd.read_csv(r'splitdata\\Asset1.csv')"
   ]
  },
  {
   "cell_type": "code",
   "execution_count": null,
   "metadata": {},
   "outputs": [],
   "source": [
    "DF = _.copy(deep=True)\n",
    "del _"
   ]
  },
  {
   "cell_type": "code",
   "execution_count": null,
   "metadata": {},
   "outputs": [],
   "source": [
    "DF[['timestamp','Asset_ID','Close','Target']]"
   ]
  },
  {
   "cell_type": "code",
   "execution_count": null,
   "metadata": {},
   "outputs": [],
   "source": [
    "np.array(DF.Close)"
   ]
  },
  {
   "cell_type": "code",
   "execution_count": null,
   "metadata": {},
   "outputs": [],
   "source": [
    "shift(DF.Close,-16,cval=np.NaN)"
   ]
  },
  {
   "cell_type": "code",
   "execution_count": null,
   "metadata": {},
   "outputs": [],
   "source": [
    "DF['TargetPrice16'] = shift(DF.Close,-16,cval=np.NaN)\n",
    "DF['TargetPrice1'] = shift(DF.Close,-1,cval=np.NaN)"
   ]
  },
  {
   "cell_type": "code",
   "execution_count": null,
   "metadata": {},
   "outputs": [],
   "source": [
    "DF"
   ]
  },
  {
   "cell_type": "code",
   "execution_count": null,
   "metadata": {},
   "outputs": [],
   "source": [
    "DF['Rt'] = np.log10(np.divide(DF['TargetPrice16'],DF['TargetPrice1']))\n",
    "#DF['Rt'] = np.divide(DF['TargetPrice16'],DF['TargetPrice1'])"
   ]
  },
  {
   "cell_type": "code",
   "execution_count": null,
   "metadata": {},
   "outputs": [],
   "source": [
    "DF['Rt']"
   ]
  },
  {
   "cell_type": "code",
   "execution_count": null,
   "metadata": {},
   "outputs": [],
   "source": [
    "def moving_average(a, n=3):\n",
    "    a = np.nan_to_num(a,nan=0)\n",
    "    ret = np.cumsum(a)\n",
    "    i=0\n",
    "    finalArr = []\n",
    "    for v in ret:\n",
    "        if(i-n<0):\n",
    "            finalArr.append(v/(i+1))\n",
    "        else:\n",
    "            finalArr.append((v-ret[i-n])/n)\n",
    "        i+=1\n",
    "    print(ret)\n",
    "    return finalArr"
   ]
  },
  {
   "cell_type": "code",
   "execution_count": null,
   "metadata": {},
   "outputs": [],
   "source": [
    "N=3750\n",
    "DF['Mt'] = moving_average(np.array(DF['Rt']),n=N)"
   ]
  },
  {
   "cell_type": "code",
   "execution_count": null,
   "metadata": {},
   "outputs": [],
   "source": [
    "DF['Mt']"
   ]
  },
  {
   "cell_type": "code",
   "execution_count": null,
   "metadata": {},
   "outputs": [],
   "source": [
    "DF"
   ]
  },
  {
   "cell_type": "code",
   "execution_count": null,
   "metadata": {},
   "outputs": [],
   "source": [
    "def ResidualizeMarket(df, mktColumn, window):\n",
    "  if mktColumn not in df.columns:\n",
    "    return df\n",
    "\n",
    "  mkt = df[mktColumn]\n",
    "\n",
    "  num = df.multiply(mkt.values, axis=0).rolling(window).mean().values  #numerator of linear regression coefficient\n",
    "  denom = mkt.multiply(mkt.values, axis=0).rolling(window).mean().values  #denominator of linear regression coefficient\n",
    "  beta = np.nan_to_num( num.T / denom, nan=0., posinf=0., neginf=0.)  #if regression fell over, use beta of 0\n",
    "\n",
    "  resultRet = df - (beta * mkt.values).T  #perform residualization\n",
    "  resultBeta = 0.*df + beta.T  #shape beta\n",
    "\n",
    "  return resultRet.drop(columns=[mktColumn]), resultBeta.drop(columns=[mktColumn])"
   ]
  },
  {
   "cell_type": "code",
   "execution_count": null,
   "metadata": {},
   "outputs": [],
   "source": [
    "M,N = ResidualizeMarket(DF,'Mt',3750)\n",
    "DF['Rt'] = M['Rt'].copy()\n",
    "DF['B'] = N['Rt'].copy()"
   ]
  },
  {
   "cell_type": "code",
   "execution_count": null,
   "metadata": {},
   "outputs": [],
   "source": [
    "N"
   ]
  },
  {
   "cell_type": "code",
   "execution_count": null,
   "metadata": {},
   "outputs": [],
   "source": [
    "DF['TargetCalc'] = DF['Rt'] - DF['B']*DF['Mt']"
   ]
  },
  {
   "cell_type": "code",
   "execution_count": null,
   "metadata": {},
   "outputs": [],
   "source": [
    "DF[['Target','TargetCalc']]"
   ]
  },
  {
   "cell_type": "code",
   "execution_count": null,
   "metadata": {},
   "outputs": [],
   "source": [
    "DF['DiffError'] = np.abs(DF['TargetCalc'] - DF['Target'])"
   ]
  },
  {
   "cell_type": "code",
   "execution_count": null,
   "metadata": {},
   "outputs": [],
   "source": [
    "DF[['TargetCalc','Target','DiffError']].head(20)"
   ]
  },
  {
   "cell_type": "code",
   "execution_count": null,
   "metadata": {},
   "outputs": [],
   "source": [
    "DF['DiffError'].describe()"
   ]
  },
  {
   "cell_type": "code",
   "execution_count": null,
   "metadata": {},
   "outputs": [],
   "source": [
    "#noise = np.random.normal(0, 1, (1000, ))\n",
    "import scipy.stats as stats\n",
    "TargetCalcDist = np.nan_to_num(DF['DiffError'], nan=0.0, posinf=0.0, neginf=0.0)\n",
    "#density = stats.gaussian_kde(TargetCalcDist)\n",
    "# n, xtc, _ = plt.hist(TargetCalcDist, bins=np.linspace(-0.1, 0.1, 1000), \n",
    "#                    histtype=u'step', density=True)  \n",
    "#plt.plot(density(xtc),label=('Target Error Calc'))\n",
    "plt.hist(TargetCalcDist,bins=10,label='TargetErrorDistribution')\n",
    "#---\n",
    "plt.yscale('log')\n",
    "plt.legend()\n",
    "plt.show()"
   ]
  }
 ],
 "metadata": {
  "interpreter": {
   "hash": "6770bb0804dde752bad64f8db710cff9a548fb4282bcd1e70abbe4e52f54e7e6"
  },
  "kernelspec": {
   "display_name": "Python 3.8.3 64-bit",
   "language": "python",
   "name": "python3"
  },
  "language_info": {
   "codemirror_mode": {
    "name": "ipython",
    "version": 3
   },
   "file_extension": ".py",
   "mimetype": "text/x-python",
   "name": "python",
   "nbconvert_exporter": "python",
   "pygments_lexer": "ipython3",
   "version": "3.8.3"
  },
  "orig_nbformat": 4
 },
 "nbformat": 4,
 "nbformat_minor": 2
}
