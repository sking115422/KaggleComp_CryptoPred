{
 "cells": [
  {
   "cell_type": "code",
   "execution_count": 1,
   "id": "c8c8a211",
   "metadata": {
    "_cell_guid": "b1076dfc-b9ad-4769-8c92-a6c4dae69d19",
    "_uuid": "8f2839f25d086af736a60e9eeb907d3b93b6e0e5",
    "execution": {
     "iopub.execute_input": "2022-02-02T05:54:31.979181Z",
     "iopub.status.busy": "2022-02-02T05:54:31.977589Z",
     "iopub.status.idle": "2022-02-02T05:54:32.002905Z",
     "shell.execute_reply": "2022-02-02T05:54:32.002371Z",
     "shell.execute_reply.started": "2022-02-01T23:35:02.437427Z"
    },
    "papermill": {
     "duration": 0.036867,
     "end_time": "2022-02-02T05:54:32.003037",
     "exception": false,
     "start_time": "2022-02-02T05:54:31.966170",
     "status": "completed"
    },
    "tags": []
   },
   "outputs": [
    {
     "name": "stdout",
     "output_type": "stream",
     "text": [
      "/kaggle/input/submission/submission.csv\n",
      "/kaggle/input/g-research-crypto-forecasting/example_sample_submission.csv\n",
      "/kaggle/input/g-research-crypto-forecasting/asset_details.csv\n",
      "/kaggle/input/g-research-crypto-forecasting/example_test.csv\n",
      "/kaggle/input/g-research-crypto-forecasting/train.csv\n",
      "/kaggle/input/g-research-crypto-forecasting/supplemental_train.csv\n",
      "/kaggle/input/g-research-crypto-forecasting/gresearch_crypto/competition.cpython-37m-x86_64-linux-gnu.so\n",
      "/kaggle/input/g-research-crypto-forecasting/gresearch_crypto/__init__.py\n"
     ]
    }
   ],
   "source": [
    "# This Python 3 environment comes with many helpful analytics libraries installed\n",
    "# It is defined by the kaggle/python Docker image: https://github.com/kaggle/docker-python\n",
    "# For example, here's several helpful packages to load\n",
    "\n",
    "import numpy as np # linear algebra\n",
    "import pandas as pd # data processing, CSV file I/O (e.g. pd.read_csv)\n",
    "\n",
    "# Input data files are available in the read-only \"../input/\" directory\n",
    "# For example, running this (by clicking run or pressing Shift+Enter) will list all files under the input directory\n",
    "\n",
    "import os\n",
    "for dirname, _, filenames in os.walk('/kaggle/input'):\n",
    "    for filename in filenames:\n",
    "        print(os.path.join(dirname, filename))\n",
    "\n",
    "# You can write up to 20GB to the current directory (/kaggle/working/) that gets preserved as output when you create a version using \"Save & Run All\" \n",
    "# You can also write temporary files to /kaggle/temp/, but they won't be saved outside of the current session"
   ]
  },
  {
   "cell_type": "code",
   "execution_count": 2,
   "id": "0fccc048",
   "metadata": {
    "execution": {
     "iopub.execute_input": "2022-02-02T05:54:32.019605Z",
     "iopub.status.busy": "2022-02-02T05:54:32.019044Z",
     "iopub.status.idle": "2022-02-02T05:54:32.040237Z",
     "shell.execute_reply": "2022-02-02T05:54:32.040939Z",
     "shell.execute_reply.started": "2022-02-01T23:55:24.965906Z"
    },
    "papermill": {
     "duration": 0.031322,
     "end_time": "2022-02-02T05:54:32.041067",
     "exception": false,
     "start_time": "2022-02-02T05:54:32.009745",
     "status": "completed"
    },
    "tags": []
   },
   "outputs": [],
   "source": [
    "import numpy as np\n",
    "import pandas as pd\n",
    "import gresearch_crypto\n",
    "env = gresearch_crypto.make_env() #environment\n",
    "#DF = pd.read_csv(r'train.csv')"
   ]
  },
  {
   "cell_type": "code",
   "execution_count": 3,
   "id": "8645299e",
   "metadata": {
    "execution": {
     "iopub.execute_input": "2022-02-02T05:54:32.056250Z",
     "iopub.status.busy": "2022-02-02T05:54:32.055452Z",
     "iopub.status.idle": "2022-02-02T05:55:31.563333Z",
     "shell.execute_reply": "2022-02-02T05:55:31.562867Z",
     "shell.execute_reply.started": "2022-02-01T23:55:27.289385Z"
    },
    "papermill": {
     "duration": 59.516142,
     "end_time": "2022-02-02T05:55:31.563468",
     "exception": false,
     "start_time": "2022-02-02T05:54:32.047326",
     "status": "completed"
    },
    "tags": []
   },
   "outputs": [],
   "source": [
    "DF = pd.read_csv('/kaggle/input/g-research-crypto-forecasting/train.csv', low_memory=False)"
   ]
  },
  {
   "cell_type": "code",
   "execution_count": 4,
   "id": "ff2c81e6",
   "metadata": {
    "execution": {
     "iopub.execute_input": "2022-02-02T05:55:31.579823Z",
     "iopub.status.busy": "2022-02-02T05:55:31.579300Z",
     "iopub.status.idle": "2022-02-02T05:55:31.582860Z",
     "shell.execute_reply": "2022-02-02T05:55:31.582422Z",
     "shell.execute_reply.started": "2022-02-01T23:56:39.381247Z"
    },
    "papermill": {
     "duration": 0.012675,
     "end_time": "2022-02-02T05:55:31.582971",
     "exception": false,
     "start_time": "2022-02-02T05:55:31.570296",
     "status": "completed"
    },
    "tags": []
   },
   "outputs": [],
   "source": [
    "#DF2 = pd.read_csv(r'../input/submission/submission.csv')\n",
    "#DF2.to_csv(r'./submission.csv')"
   ]
  },
  {
   "cell_type": "code",
   "execution_count": 5,
   "id": "bcc8ff19",
   "metadata": {
    "execution": {
     "iopub.execute_input": "2022-02-02T05:55:31.602981Z",
     "iopub.status.busy": "2022-02-02T05:55:31.602435Z",
     "iopub.status.idle": "2022-02-02T05:55:36.542811Z",
     "shell.execute_reply": "2022-02-02T05:55:36.542321Z",
     "shell.execute_reply.started": "2022-02-01T23:28:24.321631Z"
    },
    "papermill": {
     "duration": 4.953799,
     "end_time": "2022-02-02T05:55:36.542948",
     "exception": false,
     "start_time": "2022-02-02T05:55:31.589149",
     "status": "completed"
    },
    "tags": []
   },
   "outputs": [],
   "source": [
    "from tensorflow.keras.models import Sequential\n",
    "from tensorflow.keras.layers import Dense\n",
    "from tensorflow.keras.layers import LSTM\n",
    "from tensorflow.keras.layers import Conv1D\n",
    "from tensorflow.keras.layers import Flatten\n",
    "from keras.layers import Dropout\n",
    "from tensorflow.keras.wrappers.scikit_learn import KerasRegressor\n",
    "import os\n",
    "os.environ['TF_CPP_MIN_LOG_LEVEL'] = '2' #Ignore errors\n",
    "\n",
    "def __createLSTM_model(neurons=[1,1],LSTMneurons=2):\n",
    "        model = Sequential() #NN Model\n",
    "        model.add(Dense(neurons[0])) #First Dense layer\n",
    "        model.add(LSTM(LSTMneurons)) #LSTM Layer\n",
    "        model.add(Flatten()) #Flatten 2 D\n",
    "        for n in neurons[1:]:\n",
    "            model.add(Dense(n,activation='tanh')) #Trainable Layers\n",
    "            model.add(Dropout(0.1))\n",
    "        model.add(Dense(1, activation='linear')) #linear\n",
    "        model.compile(loss='mean_squared_error',\n",
    "                  optimizer='adam',\n",
    "                  metrics=['MeanSquaredError'])\t #Regression\n",
    "        return model\n",
    "\n",
    "def createLSTM_model(neurons=[1,1],LSTMneurons=2,**kwargs):\n",
    "    return KerasRegressor(__createLSTM_model,\n",
    "    neurons = neurons,LSTMneurons = LSTMneurons) #Wrapper"
   ]
  },
  {
   "cell_type": "code",
   "execution_count": 6,
   "id": "75925355",
   "metadata": {
    "execution": {
     "iopub.execute_input": "2022-02-02T05:55:36.566419Z",
     "iopub.status.busy": "2022-02-02T05:55:36.565208Z",
     "iopub.status.idle": "2022-02-02T06:50:26.636339Z",
     "shell.execute_reply": "2022-02-02T06:50:26.637172Z",
     "shell.execute_reply.started": "2022-02-01T23:28:31.926627Z"
    },
    "papermill": {
     "duration": 3290.08792,
     "end_time": "2022-02-02T06:50:26.637404",
     "exception": false,
     "start_time": "2022-02-02T05:55:36.549484",
     "status": "completed"
    },
    "tags": []
   },
   "outputs": [
    {
     "name": "stdout",
     "output_type": "stream",
     "text": [
      "Epoch 1/8\n",
      "91745/91745 [==============================] - 400s 4ms/step - loss: nan - mean_squared_error: nan\n",
      "Epoch 2/8\n",
      "91745/91745 [==============================] - 408s 4ms/step - loss: nan - mean_squared_error: nan\n",
      "Epoch 3/8\n",
      "91745/91745 [==============================] - 402s 4ms/step - loss: nan - mean_squared_error: nan\n",
      "Epoch 4/8\n",
      "91745/91745 [==============================] - 408s 4ms/step - loss: nan - mean_squared_error: nan\n",
      "Epoch 5/8\n",
      "91745/91745 [==============================] - 405s 4ms/step - loss: nan - mean_squared_error: nan\n",
      "Epoch 6/8\n",
      "91745/91745 [==============================] - 402s 4ms/step - loss: nan - mean_squared_error: nan\n",
      "Epoch 7/8\n",
      "91745/91745 [==============================] - 408s 4ms/step - loss: nan - mean_squared_error: nan\n",
      "Epoch 8/8\n",
      "91745/91745 [==============================] - 392s 4ms/step - loss: nan - mean_squared_error: nan\n"
     ]
    },
    {
     "data": {
      "text/plain": [
       "<keras.callbacks.History at 0x7f7eac7fc610>"
      ]
     },
     "execution_count": 6,
     "metadata": {},
     "output_type": "execute_result"
    }
   ],
   "source": [
    "model = createLSTM_model(neurons=[64,128,64],LSTMneurons=32)\n",
    "DF = DF.dropna()\n",
    "X = DF.iloc[:,:-1]\n",
    "Y = DF.iloc[:,-1]\n",
    "del DF\n",
    "Y.name = 'TargetPrice'\n",
    "model.fit(np.array(X).reshape(X.shape[0],X.shape[1],1),np.array(Y).reshape(Y.shape[0],1),\n",
    "epochs=8,batch_size=256)"
   ]
  },
  {
   "cell_type": "code",
   "execution_count": 7,
   "id": "eca07285",
   "metadata": {
    "execution": {
     "iopub.execute_input": "2022-02-02T06:50:59.976088Z",
     "iopub.status.busy": "2022-02-02T06:50:59.975394Z",
     "iopub.status.idle": "2022-02-02T06:51:00.702103Z",
     "shell.execute_reply": "2022-02-02T06:51:00.701125Z",
     "shell.execute_reply.started": "2022-02-01T23:35:33.005838Z"
    },
    "papermill": {
     "duration": 17.45315,
     "end_time": "2022-02-02T06:51:00.702280",
     "exception": false,
     "start_time": "2022-02-02T06:50:43.249130",
     "status": "completed"
    },
    "tags": []
   },
   "outputs": [
    {
     "name": "stdout",
     "output_type": "stream",
     "text": [
      "This version of the API is not optimized and should not be used to estimate the runtime of your code on the hidden test set.\n"
     ]
    }
   ],
   "source": [
    "iter_test = env.iter_test()\n",
    "for (test_df, sample_prediction_df) in iter_test:\n",
    "    sample_prediction_df['Target'] = model.predict(np.array(test_df).reshape(test_df.shape[0],test_df.shape[1],1))\n",
    "    sample_prediction_df.to_csv(r'./submission.csv',index=False)\n",
    "    env.predict(sample_prediction_df)"
   ]
  }
 ],
 "metadata": {
  "kernelspec": {
   "display_name": "Python 3",
   "language": "python",
   "name": "python3"
  },
  "language_info": {
   "codemirror_mode": {
    "name": "ipython",
    "version": 3
   },
   "file_extension": ".py",
   "mimetype": "text/x-python",
   "name": "python",
   "nbconvert_exporter": "python",
   "pygments_lexer": "ipython3",
   "version": "3.7.12"
  },
  "papermill": {
   "default_parameters": {},
   "duration": 3416.742375,
   "end_time": "2022-02-02T06:51:20.685940",
   "environment_variables": {},
   "exception": null,
   "input_path": "__notebook__.ipynb",
   "output_path": "__notebook__.ipynb",
   "parameters": {},
   "start_time": "2022-02-02T05:54:23.943565",
   "version": "2.3.3"
  }
 },
 "nbformat": 4,
 "nbformat_minor": 5
}
